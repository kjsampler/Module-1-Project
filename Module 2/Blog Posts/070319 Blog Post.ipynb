{
 "cells": [
  {
   "cell_type": "markdown",
   "metadata": {},
   "source": [
    "# Nested Dictionaries"
   ]
  },
  {
   "cell_type": "code",
   "execution_count": 2,
   "metadata": {},
   "outputs": [],
   "source": [
    "my_pets = {'Natasha': {'species': 'cat', 'age': '4', 'color': 'brown'},\n",
    "           'Lyla': {'species': 'cat', 'age': '7', 'color' : 'calico'},\n",
    "           'Copper': {'species': 'dog', 'age': '1', 'color': 'brown'}}"
   ]
  },
  {
   "cell_type": "markdown",
   "metadata": {},
   "source": [
    "    Sanity Checks:"
   ]
  },
  {
   "cell_type": "code",
   "execution_count": 3,
   "metadata": {},
   "outputs": [
    {
     "data": {
      "text/plain": [
       "{'species': 'cat', 'age': '4', 'color': 'brown'}"
      ]
     },
     "execution_count": 3,
     "metadata": {},
     "output_type": "execute_result"
    }
   ],
   "source": [
    "my_pets['Natasha']"
   ]
  },
  {
   "cell_type": "code",
   "execution_count": 4,
   "metadata": {},
   "outputs": [
    {
     "data": {
      "text/plain": [
       "'calico'"
      ]
     },
     "execution_count": 4,
     "metadata": {},
     "output_type": "execute_result"
    }
   ],
   "source": [
    "my_pets['Lyla']['color']"
   ]
  },
  {
   "cell_type": "markdown",
   "metadata": {},
   "source": [
    "    Adding a new dog: "
   ]
  },
  {
   "cell_type": "code",
   "execution_count": 5,
   "metadata": {},
   "outputs": [],
   "source": [
    "my_pets['new_dog'] = {'species':'dog', 'age': '4', 'color':'black'}"
   ]
  },
  {
   "cell_type": "code",
   "execution_count": 6,
   "metadata": {},
   "outputs": [
    {
     "name": "stdout",
     "output_type": "stream",
     "text": [
      "{'Natasha': {'species': 'cat', 'age': '4', 'color': 'brown'}, 'Lyla': {'species': 'cat', 'age': '7', 'color': 'calico'}, 'Copper': {'species': 'dog', 'age': '1', 'color': 'brown'}, 'new_dog': {'species': 'dog', 'age': '4', 'color': 'black'}}\n"
     ]
    }
   ],
   "source": [
    "print(my_pets)"
   ]
  },
  {
   "cell_type": "code",
   "execution_count": 7,
   "metadata": {},
   "outputs": [
    {
     "data": {
      "text/plain": [
       "{'species': 'dog', 'age': '4', 'color': 'black'}"
      ]
     },
     "execution_count": 7,
     "metadata": {},
     "output_type": "execute_result"
    }
   ],
   "source": [
    "my_pets.pop('new_dog')"
   ]
  },
  {
   "cell_type": "code",
   "execution_count": 8,
   "metadata": {},
   "outputs": [
    {
     "data": {
      "text/plain": [
       "{'Natasha': {'species': 'cat', 'age': '4', 'color': 'brown'},\n",
       " 'Lyla': {'species': 'cat', 'age': '7', 'color': 'calico'},\n",
       " 'Copper': {'species': 'dog', 'age': '1', 'color': 'brown'}}"
      ]
     },
     "execution_count": 8,
     "metadata": {},
     "output_type": "execute_result"
    }
   ],
   "source": [
    "my_pets"
   ]
  },
  {
   "cell_type": "markdown",
   "metadata": {},
   "source": [
    "    All brown pets:"
   ]
  },
  {
   "cell_type": "code",
   "execution_count": 18,
   "metadata": {},
   "outputs": [],
   "source": [
    "brown_pets = []\n",
    "\n",
    "for pet in my_pets:\n",
    "   if my_pets[pet]['color'] == 'brown':\n",
    "        brown_pets.append([pet])"
   ]
  },
  {
   "cell_type": "code",
   "execution_count": 19,
   "metadata": {},
   "outputs": [
    {
     "name": "stdout",
     "output_type": "stream",
     "text": [
      "[['Natasha'], ['Copper']]\n"
     ]
    }
   ],
   "source": [
    "print(brown_pets)"
   ]
  },
  {
   "cell_type": "code",
   "execution_count": 16,
   "metadata": {},
   "outputs": [
    {
     "name": "stdout",
     "output_type": "stream",
     "text": [
      "brown\n",
      "calico\n",
      "brown\n"
     ]
    }
   ],
   "source": [
    "for pet in my_pets:\n",
    "    print(my_pets[pet]['color'])"
   ]
  },
  {
   "cell_type": "code",
   "execution_count": 22,
   "metadata": {},
   "outputs": [],
   "source": [
    "cats = []\n",
    "\n",
    "for pet in my_pets:\n",
    "    if my_pets[pet]['species'] == 'cat':\n",
    "        cats.append([pet, my_pets[pet]['species']])"
   ]
  },
  {
   "cell_type": "code",
   "execution_count": 23,
   "metadata": {},
   "outputs": [
    {
     "data": {
      "text/plain": [
       "[['Natasha', 'cat'], ['Lyla', 'cat']]"
      ]
     },
     "execution_count": 23,
     "metadata": {},
     "output_type": "execute_result"
    }
   ],
   "source": [
    "cats"
   ]
  },
  {
   "cell_type": "code",
   "execution_count": 14,
   "metadata": {},
   "outputs": [
    {
     "data": {
      "text/plain": [
       "[('Copper', {'species': 'dog', 'age': '1', 'color': 'brown'}),\n",
       " ('Lyla', {'species': 'cat', 'age': '7', 'color': 'calico'}),\n",
       " ('Natasha', {'species': 'cat', 'age': '4', 'color': 'brown'})]"
      ]
     },
     "execution_count": 14,
     "metadata": {},
     "output_type": "execute_result"
    }
   ],
   "source": [
    "sorted(my_pets.items())"
   ]
  },
  {
   "cell_type": "code",
   "execution_count": null,
   "metadata": {},
   "outputs": [],
   "source": []
  }
 ],
 "metadata": {
  "kernelspec": {
   "display_name": "learn-env",
   "language": "python",
   "name": "learn-env"
  },
  "language_info": {
   "codemirror_mode": {
    "name": "ipython",
    "version": 3
   },
   "file_extension": ".py",
   "mimetype": "text/x-python",
   "name": "python",
   "nbconvert_exporter": "python",
   "pygments_lexer": "ipython3",
   "version": "3.7.3"
  }
 },
 "nbformat": 4,
 "nbformat_minor": 2
}
