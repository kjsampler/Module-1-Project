{
 "cells": [
  {
   "cell_type": "code",
   "execution_count": null,
   "metadata": {},
   "outputs": [],
   "source": [
    "#Notes: 25-35 hours \n",
    "#Goal: regression to predict housing price\n",
    "#github repo contains jupyter notebook with lots of comments and docstrings, \n",
    "# also contains powerpoint 5-10 slides (for stakeholders)\n",
    "#powerpoint= introduce problem, discuss data (problems),key insights, results, recommendations\n",
    "#\n",
    "#\n",
    "#fork lab,clone (just like anything else)\n",
    "#majority of people have to make a correction!\n",
    "#LOTS AND LOTS OF COMMENTS\n",
    "#make it look like our labs\n",
    "#Markdown notes: google markdown cheat sheet\n",
    "#everything has a purpose, and put a sentence describing why you did it\n",
    "#\n",
    "#3 questions - don't overthink it. is there a relationship between sq ft and price? \n",
    "#powerpoint- avoid a lot of text and technical jargon\n",
    "#feature engineering \n",
    "#don't forget to look for null values\n",
    " "
   ]
  }
 ],
 "metadata": {
  "kernelspec": {
   "display_name": "Python 3",
   "language": "python",
   "name": "python3"
  },
  "language_info": {
   "codemirror_mode": {
    "name": "ipython",
    "version": 3
   },
   "file_extension": ".py",
   "mimetype": "text/x-python",
   "name": "python",
   "nbconvert_exporter": "python",
   "pygments_lexer": "ipython3",
   "version": "3.7.3"
  }
 },
 "nbformat": 4,
 "nbformat_minor": 2
}
